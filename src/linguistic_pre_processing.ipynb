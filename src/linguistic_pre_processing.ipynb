{
 "cells": [
  {
   "cell_type": "code",
   "execution_count": 34,
   "metadata": {
    "collapsed": true
   },
   "outputs": [],
   "source": [
    "# Reference:\n",
    "# https://www.kaggle.com/defeater/importance-of-a-linguistic-pre-processing"
   ]
  },
  {
   "cell_type": "code",
   "execution_count": 1,
   "metadata": {
    "collapsed": true
   },
   "outputs": [],
   "source": [
    "from nltk.stem.wordnet import WordNetLemmatizer\n",
    "from nltk.stem import LancasterStemmer\n",
    "stemmer = LancasterStemmer()\n",
    "lemmer = WordNetLemmatizer()"
   ]
  },
  {
   "cell_type": "code",
   "execution_count": 2,
   "metadata": {
    "collapsed": false
   },
   "outputs": [
    {
     "name": "stdout",
     "output_type": "stream",
     "text": [
      "dict\n",
      "dictionary\n"
     ]
    }
   ],
   "source": [
    "print(stemmer.stem('dictionaries'))\n",
    "print(lemmer.lemmatize('dictionaries'))"
   ]
  },
  {
   "cell_type": "code",
   "execution_count": 4,
   "metadata": {
    "collapsed": false
   },
   "outputs": [],
   "source": [
    "from gensim import models\n",
    "import numpy as np\n",
    "from pandas import DataFrame, Series\n",
    "from sklearn.linear_model import LogisticRegression\n",
    "from sklearn.model_selection import learning_curve\n",
    "from sklearn.model_selection import ShuffleSplit\n",
    "import matplotlib.pyplot as plt\n",
    "import seaborn"
   ]
  },
  {
   "cell_type": "code",
   "execution_count": 5,
   "metadata": {
    "collapsed": true
   },
   "outputs": [],
   "source": [
    "from nltk.corpus import stopwords\n",
    "from nltk.tokenize import wordpunct_tokenize, RegexpTokenizer\n",
    "stop = stopwords.words('english')\n",
    "alpha_tokenizer = RegexpTokenizer('[A-Za-z]\\w+')"
   ]
  },
  {
   "cell_type": "code",
   "execution_count": 6,
   "metadata": {
    "collapsed": false
   },
   "outputs": [
    {
     "name": "stdout",
     "output_type": "stream",
     "text": [
      "GoogleNews-vectors-negative300.bin\n",
      "test.csv\n",
      "train.csv\n",
      "\n"
     ]
    }
   ],
   "source": [
    "from subprocess import check_output\n",
    "print(check_output(['ls', './../data']).decode('utf8'))"
   ]
  },
  {
   "cell_type": "code",
   "execution_count": 7,
   "metadata": {
    "collapsed": true
   },
   "outputs": [],
   "source": [
    "df_train = DataFrame.from_csv('./../data/train.csv').dropna()"
   ]
  },
  {
   "cell_type": "code",
   "execution_count": 8,
   "metadata": {
    "collapsed": true
   },
   "outputs": [],
   "source": [
    "texts = np.concatenate([df_train.question1.values, df_train.question2.values])"
   ]
  },
  {
   "cell_type": "code",
   "execution_count": 9,
   "metadata": {
    "collapsed": true
   },
   "outputs": [],
   "source": [
    "def process_sent(words, lemmatize=False, stem=False):\n",
    "    words = words.lower()\n",
    "    tokens = alpha_tokenizer.tokenize(words)\n",
    "    for index, word in enumerate(tokens):\n",
    "        if lemmatize:\n",
    "            tokens[index] = lemmer.lemmatize(word)\n",
    "        elif stem:\n",
    "            tokens[index] = stemmer.stem(word)\n",
    "        else:\n",
    "            tokens[index] = word\n",
    "    return tokens"
   ]
  },
  {
   "cell_type": "code",
   "execution_count": 10,
   "metadata": {
    "collapsed": true
   },
   "outputs": [],
   "source": [
    "corpus_lemmatized = [process_sent(sent, lemmatize=True, stem=False) for sent in texts]"
   ]
  },
  {
   "cell_type": "code",
   "execution_count": 11,
   "metadata": {
    "collapsed": true
   },
   "outputs": [],
   "source": [
    "corpus_stemmed = [process_sent(sent, lemmatize=False, stem=True) for sent in texts]"
   ]
  },
  {
   "cell_type": "code",
   "execution_count": 13,
   "metadata": {
    "collapsed": false
   },
   "outputs": [],
   "source": [
    "corpus = [process_sent(sent) for sent in texts]"
   ]
  },
  {
   "cell_type": "code",
   "execution_count": 14,
   "metadata": {
    "collapsed": true
   },
   "outputs": [],
   "source": [
    "VECTOR_SIZE = 100\n",
    "min_count = 10\n",
    "size = VECTOR_SIZE\n",
    "window = 10"
   ]
  },
  {
   "cell_type": "code",
   "execution_count": 16,
   "metadata": {
    "collapsed": false
   },
   "outputs": [],
   "source": [
    "model_lemmatized = models.Word2Vec(corpus_lemmatized, min_count=min_count, size=size, window=window)"
   ]
  },
  {
   "cell_type": "code",
   "execution_count": 17,
   "metadata": {
    "collapsed": true
   },
   "outputs": [],
   "source": [
    "model_stemmed = models.Word2Vec(corpus_stemmed, min_count=min_count, size=size, window=window)"
   ]
  },
  {
   "cell_type": "code",
   "execution_count": 18,
   "metadata": {
    "collapsed": true
   },
   "outputs": [],
   "source": [
    "model = models.Word2Vec(corpus, min_count=min_count, size=size, window=window)"
   ]
  },
  {
   "cell_type": "code",
   "execution_count": 19,
   "metadata": {
    "collapsed": false
   },
   "outputs": [
    {
     "data": {
      "text/plain": [
       "[('ps4', 0.8376371264457703),\n",
       " ('console', 0.7802705764770508),\n",
       " ('pirated', 0.7593536376953125),\n",
       " ('ps3', 0.7558519244194031),\n",
       " ('xbox', 0.7534470558166504),\n",
       " ('gta', 0.7508143186569214),\n",
       " ('wii', 0.7190563678741455),\n",
       " ('mod', 0.7184896469116211),\n",
       " ('geforce', 0.6762281060218811),\n",
       " ('fifa', 0.662062406539917)]"
      ]
     },
     "execution_count": 19,
     "metadata": {},
     "output_type": "execute_result"
    }
   ],
   "source": [
    "model_lemmatized.most_similar('playstation')"
   ]
  },
  {
   "cell_type": "code",
   "execution_count": 20,
   "metadata": {
    "collapsed": true
   },
   "outputs": [],
   "source": [
    "q1 = df_train.question1.values\n",
    "q2 = df_train.question2.values\n",
    "Y = np.array(df_train.is_duplicate.values)"
   ]
  },
  {
   "cell_type": "code",
   "execution_count": 28,
   "metadata": {
    "collapsed": true
   },
   "outputs": [],
   "source": [
    "def preprocess_check(words, lemmatize=False, stem=False):\n",
    "    words = words.lower()\n",
    "    tokens = alpha_tokenizer.tokenize(words)\n",
    "    model_tokens = []\n",
    "    for index, word in enumerate(tokens):\n",
    "        if lemmatize:\n",
    "            lem_word = lemmer.lemmatize(word)\n",
    "            if lem_word in model_lemmatized.wv.vocab:\n",
    "                model_tokens.append(lem_word)\n",
    "        elif stem:\n",
    "            stem_word = stemmer.stem(word)\n",
    "            if stem_word in model_stemmed.wv.vocab:\n",
    "                model_tokens.append(stem_word)\n",
    "        else:\n",
    "            if word in model.wv.vocab:\n",
    "                model_tokens.append(word)\n",
    "    return model_tokens"
   ]
  },
  {
   "cell_type": "code",
   "execution_count": 29,
   "metadata": {
    "collapsed": true
   },
   "outputs": [],
   "source": [
    "old_err_state = np.seterr(all='raise')\n",
    "\n",
    "def vectorize(words, words_2, model, num_features, lemmatize=False, stem=False):\n",
    "    features = np.zeros((num_features), dtype='float32')\n",
    "    words_amount = 0\n",
    "    \n",
    "    words = preprocess_check(words, lemmatize, stem)\n",
    "    words_2 = preprocess_check(words_2, lemmatize, stem)\n",
    "    for word in words:\n",
    "        words_amount = words_amount + 1\n",
    "        features = np.add(features, model[word])\n",
    "    for word in words_2:\n",
    "        words_amount = words_amount + 1\n",
    "        features = np.add(features, words_amount)\n",
    "    try:\n",
    "        features = np.divide(features, words_amount)\n",
    "    except FloatingPointError:\n",
    "        features = np.zeros(num_features, dtype='float32')\n",
    "    return features"
   ]
  },
  {
   "cell_type": "code",
   "execution_count": 26,
   "metadata": {
    "collapsed": false
   },
   "outputs": [],
   "source": [
    "X_lem = []\n",
    "for index, sentence in enumerate(q1):\n",
    "    X_lem.append(vectorize(sentence, q2[index], model_lemmatized, VECTOR_SIZE, True, False))\n",
    "X_lem = np.array(X_lem)"
   ]
  },
  {
   "cell_type": "code",
   "execution_count": 30,
   "metadata": {
    "collapsed": false
   },
   "outputs": [],
   "source": [
    "X_stem = []\n",
    "for index, sentence in enumerate(q1):\n",
    "    X_stem.append(vectorize(sentence, q2[index], model_stemmed, VECTOR_SIZE, False, True))\n",
    "X_stem = np.array(X_stem)"
   ]
  },
  {
   "cell_type": "code",
   "execution_count": 31,
   "metadata": {
    "collapsed": true
   },
   "outputs": [],
   "source": [
    "X = []\n",
    "for index, sentence in enumerate(q1):\n",
    "    X.append(vectorize(sentence, q2[index], model, VECTOR_SIZE))\n",
    "X = np.array(X)"
   ]
  },
  {
   "cell_type": "code",
   "execution_count": 33,
   "metadata": {
    "collapsed": false
   },
   "outputs": [
    {
     "data": {
      "image/png": "[encoded data removed]",
      "text/plain": [
       "<matplotlib.figure.Figure at 0x1965e6780>"
      ]
     },
     "metadata": {},
     "output_type": "display_data"
    },
    {
     "data": {
      "image/png": "[encoded data removed]",
      "text/plain": [
       "<matplotlib.figure.Figure at 0x1965e6940>"
      ]
     },
     "metadata": {},
     "output_type": "display_data"
    }
   ],
   "source": [
    "results = []\n",
    "title_font = {'size': '10', 'color': 'black', 'weight': 'normal', 'verticalalignment': 'bottom'}\n",
    "axis_font = {'size': '10'}\n",
    "plt.figure(figsize=(10, 5))\n",
    "plt.xlabel('Training Examples', **axis_font)\n",
    "plt.ylabel('Accuracy', **axis_font)\n",
    "plt.tick_params(labelsize=10)\n",
    "for X_set, name, lstyle in [(X_lem, 'Lemmatization', 'dotted'),\n",
    "                           (X_stem, 'Stemming', 'dashed'),\n",
    "                           (X, 'default', 'dashdot')\n",
    "                           ]:\n",
    "    estimator = LogisticRegression(C=1)\n",
    "    cv = ShuffleSplit(n_splits=3, test_size=0.1, random_state=0)\n",
    "    train_sizes = np.linspace(0.1, 0.9, 3)\n",
    "    train_sizes, train_scores, test_scores = learning_curve(estimator, X_set, Y, cv=cv, train_sizes=train_sizes)\n",
    "    train_scores_mean = np.mean(train_scores, axis=1)\n",
    "    results.append({'preprocessing': name, 'score': train_scores_mean[-1]})\n",
    "    plt.plot(train_sizes, train_scores_mean, label=name, linewidth=5, linestyle=lstyle)\n",
    "plt.legend(loc='best')\n",
    "plt.show()"
   ]
  },
  {
   "cell_type": "code",
   "execution_count": null,
   "metadata": {
    "collapsed": true
   },
   "outputs": [],
   "source": [
    "clf = LogisticRegression(C = 1)\n",
    "clf.fit(X, Y)\n",
    "\n",
    "df_test = DataFrame.from_csv('./../data/test.csv').fillna('None')\n",
    "# q1 = df_train.question1.values[:100]\n",
    "# q2 = df_train.question2.values[:100]\n",
    "q1 = df_test.question1.values\n",
    "q2 = df_test.question2.values\n",
    "\n",
    "X_test = []\n",
    "for index, sentence in enumerate(q1):\n",
    "    X_test.append(vectorize(sentence, q2[index], model, VECTOR_SIZE))\n",
    "X_test = np.array(X_test)\n",
    "\n",
    "result = clf.predict(X_test)"
   ]
  },
  {
   "cell_type": "code",
   "execution_count": 38,
   "metadata": {
    "collapsed": false
   },
   "outputs": [],
   "source": [
    "sub = DataFrame()\n",
    "sub['test_id'] = [i for i in range(len(result))]\n",
    "sub['is_duplicate'] = result\n",
    "sub.to_csv('submission.csv', index=False)"
   ]
  }
 ],
 "metadata": {
  "kernelspec": {
   "display_name": "Python 3",
   "language": "python",
   "name": "python3"
  },
  "language_info": {
   "codemirror_mode": {
    "name": "ipython",
    "version": 3
   },
   "file_extension": ".py",
   "mimetype": "text/x-python",
   "name": "python",
   "nbconvert_exporter": "python",
   "pygments_lexer": "ipython3",
   "version": "3.5.2"
  }
 },
 "nbformat": 4,
 "nbformat_minor": 2
}
